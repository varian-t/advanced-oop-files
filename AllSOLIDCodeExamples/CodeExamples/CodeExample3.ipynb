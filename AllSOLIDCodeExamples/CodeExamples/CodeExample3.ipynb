{
 "cells": [
  {
   "cell_type": "code",
   "execution_count": 6,
   "metadata": {
    "polyglot_notebook": {
     "kernelName": "csharp"
    },
    "vscode": {
     "languageId": "polyglot-notebook"
    }
   },
   "outputs": [],
   "source": [
    "using System.Diagnostics;\n",
    "\n",
    "public class Rectangle\n",
    "{\n",
    "    public virtual int Width { get; set; }\n",
    "    public virtual int Height { get; set; }\n",
    "\n",
    "    public int GetArea() => Width * Height;\n",
    "}\n",
    "\n",
    "public class Square : Rectangle\n",
    "{\n",
    "    public override int Width\n",
    "    {\n",
    "        set { base.Width = base.Height = value; }\n",
    "    }\n",
    "    \n",
    "    public override int Height\n",
    "    {\n",
    "        set { base.Width = base.Height = value; }\n",
    "    }\n",
    "}\n",
    "\n",
    "public class TestRectangle\n",
    "{\n",
    "    public static void TestRectangleArea(Rectangle rect)\n",
    "    {\n",
    "        rect.Width = 5;\n",
    "        rect.Height = 10;\n",
    "        Trace.Assert(rect.Width == 5);\n",
    "        Trace.Assert(rect.Height == 10);\n",
    "    }\n",
    "}\n",
    "\n",
    "List<Rectangle> rectangles = new List<Rectangle>\n",
    "{\n",
    "    new Rectangle { Width = 5, Height = 10 },\n",
    "    new Square { Width = 5, Height = 10 }\n",
    "};\n",
    "\n",
    "foreach (var rect in rectangles)\n",
    "{\n",
    "    TestRectangle.TestRectangleArea(rect);\n",
    "}\n"
   ]
  },
  {
   "cell_type": "code",
   "execution_count": 7,
   "metadata": {
    "polyglot_notebook": {
     "kernelName": "csharp"
    },
    "vscode": {
     "languageId": "polyglot-notebook"
    }
   },
   "outputs": [
    {
     "name": "stdout",
     "output_type": "stream",
     "text": [
      "Area: 50\n",
      "Area: 25\n"
     ]
    }
   ],
   "source": [
    "public abstract class Shape\n",
    "{\n",
    "    public abstract int GetArea();\n",
    "}\n",
    "\n",
    "public class Rectangle : Shape\n",
    "{\n",
    "    public int Width { get; set; }\n",
    "    public int Height { get; set; }\n",
    "\n",
    "    public override int GetArea() => Width * Height;\n",
    "}\n",
    "\n",
    "public class Square : Shape\n",
    "{\n",
    "    public int Side { get; set; }\n",
    "    public override int GetArea() => Side * Side;\n",
    "}\n",
    "\n",
    "\n",
    "List<Shape> shapes = \n",
    "[\n",
    "    new Rectangle { Width = 5, Height = 10 },\n",
    "    new Square { Side = 5 }\n",
    "];\n",
    "\n",
    "foreach (var shape in shapes)\n",
    "{\n",
    "    Console.WriteLine($\"Area: {shape.GetArea()}\");\n",
    "}"
   ]
  }
 ],
 "metadata": {
  "kernelspec": {
   "display_name": ".NET (C#)",
   "language": "C#",
   "name": ".net-csharp"
  },
  "language_info": {
   "name": "python"
  },
  "polyglot_notebook": {
   "kernelInfo": {
    "defaultKernelName": "csharp",
    "items": [
     {
      "aliases": [],
      "name": "csharp"
     }
    ]
   }
  }
 },
 "nbformat": 4,
 "nbformat_minor": 2
}
