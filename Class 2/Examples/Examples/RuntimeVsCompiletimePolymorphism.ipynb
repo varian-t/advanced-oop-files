{
 "cells": [
  {
   "cell_type": "markdown",
   "metadata": {},
   "source": [
    "## Runtime vs. Compiletime Polymorphism"
   ]
  },
  {
   "cell_type": "markdown",
   "metadata": {},
   "source": [
    "### Compile Time Polymorphism aka Overloading"
   ]
  },
  {
   "cell_type": "code",
   "execution_count": null,
   "metadata": {
    "dotnet_interactive": {
     "language": "csharp"
    },
    "polyglot_notebook": {
     "kernelName": "csharp"
    }
   },
   "outputs": [
    {
     "name": "stdout",
     "output_type": "stream",
     "text": [
      "Object overload called\r\n"
     ]
    }
   ],
   "source": [
    "using System;\n",
    "\n",
    "class Test\n",
    "{\n",
    "    static void Foo(object a)\n",
    "    {\n",
    "        Console.WriteLine(\"Object overload called\");\n",
    "    }\n",
    "\n",
    "    static void Foo(string a)\n",
    "    {\n",
    "        Console.WriteLine(\"String overload called\");\n",
    "    }\n",
    "\n",
    "    public static void Main()\n",
    "    {\n",
    "        object x = \"hello\"; //// it sees this as an object, not a string\n",
    "        Foo(x);\n",
    "    }\n",
    "}\n",
    "\n",
    "Test.Main();"
   ]
  },
  {
   "cell_type": "markdown",
   "metadata": {},
   "source": [
    "### Run Time Polymorphism aka Overriding"
   ]
  },
  {
   "cell_type": "markdown",
   "metadata": {},
   "source": [
    "### Overloading in a subclass"
   ]
  },
  {
   "cell_type": "code",
   "execution_count": null,
   "metadata": {
    "dotnet_interactive": {
     "language": "csharp"
    },
    "polyglot_notebook": {
     "kernelName": "csharp"
    }
   },
   "outputs": [
    {
     "name": "stdout",
     "output_type": "stream",
     "text": [
      "Derived.Foo called\r\n"
     ]
    }
   ],
   "source": [
    "using System;\n",
    "\n",
    "class Base\n",
    "{\n",
    "    public virtual void Foo()\n",
    "    {\n",
    "        Console.WriteLine(\"Base.Foo called\");\n",
    "    }\n",
    "}\n",
    "\n",
    "class Derived : Base\n",
    "{\n",
    "    public override void Foo()\n",
    "    {\n",
    "        Console.WriteLine(\"Derived.Foo called\");\n",
    "    }\n",
    "}\n",
    "\n",
    "class Test3\n",
    "{\n",
    "    public static void Main()\n",
    "    {\n",
    "        Base x = new Derived();\n",
    "        x.Foo();\n",
    "    }\n",
    "}\n",
    "\n",
    "Test3.Main();"
   ]
  },
  {
   "cell_type": "code",
   "execution_count": null,
   "metadata": {
    "dotnet_interactive": {
     "language": "csharp"
    },
    "polyglot_notebook": {
     "kernelName": "csharp"
    }
   },
   "outputs": [
    {
     "name": "stdout",
     "output_type": "stream",
     "text": [
      "Base.Foo called\r\n"
     ]
    }
   ],
   "source": [
    "using System;\n",
    "\n",
    "class Base\n",
    "{\n",
    "    public virtual void Foo()\n",
    "    {\n",
    "        Console.WriteLine(\"Base.Foo called\");\n",
    "    }\n",
    "}\n",
    "\n",
    "class Derived : Base\n",
    "{\n",
    "    public new void Foo()\n",
    "    {\n",
    "        Console.WriteLine(\"Derived.Foo called\");\n",
    "    }\n",
    "}\n",
    "\n",
    "class Test2\n",
    "{\n",
    "    public static void Main()\n",
    "    {\n",
    "        Base x = new Derived();  //derived method is called\n",
    "        x.Foo();\n",
    "    }\n",
    "}\n",
    "\n",
    "Test2.Main();"
   ]
  }
 ],
 "metadata": {
  "kernelspec": {
   "display_name": ".NET (C#)",
   "language": "C#",
   "name": ".net-csharp"
  },
  "polyglot_notebook": {
   "kernelInfo": {
    "defaultKernelName": "csharp",
    "items": [
     {
      "aliases": [],
      "languageName": "csharp",
      "name": "csharp"
     }
    ]
   }
  }
 },
 "nbformat": 4,
 "nbformat_minor": 2
}
