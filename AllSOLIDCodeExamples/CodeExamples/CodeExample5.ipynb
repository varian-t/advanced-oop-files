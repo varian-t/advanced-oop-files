{
 "cells": [
  {
   "cell_type": "code",
   "execution_count": 1,
   "metadata": {
    "polyglot_notebook": {
     "kernelName": "csharp"
    },
    "vscode": {
     "languageId": "polyglot-notebook"
    }
   },
   "outputs": [
    {
     "name": "stdout",
     "output_type": "stream",
     "text": [
      "Authenticating user admin with password 1234\r\n"
     ]
    }
   ],
   "source": [
    "\n",
    "public class DatabaseService\n",
    "{\n",
    "    public void Authenticate(string username, string password)\n",
    "    {\n",
    "        Console.WriteLine($\"Authenticating user {username} with password {password}\");\n",
    "    }\n",
    "}\n",
    "\n",
    "public class LoginViewModel\n",
    "{\n",
    "    private readonly DatabaseService _db = new DatabaseService();\n",
    "    public string Username { get; set; }\n",
    "    public string Password { get; set; }\n",
    "\n",
    "    public void Login()\n",
    "    {\n",
    "        _db.Authenticate(Username, Password);\n",
    "    }\n",
    "}\n",
    "\n",
    "var loginViewModel = new LoginViewModel();\n",
    "loginViewModel.Username = \"admin\";\n",
    "loginViewModel.Password = \"1234\";\n",
    "loginViewModel.Login();"
   ]
  },
  {
   "cell_type": "code",
   "execution_count": 16,
   "metadata": {
    "polyglot_notebook": {
     "kernelName": "csharp"
    },
    "vscode": {
     "languageId": "polyglot-notebook"
    }
   },
   "outputs": [
    {
     "name": "stdout",
     "output_type": "stream",
     "text": [
      "Authenticating user  with password \r\n"
     ]
    }
   ],
   "source": [
    "public interface IAuthService\n",
    "{\n",
    "    void Authenticate(string username, string password);\n",
    "}\n",
    "\n",
    "public class DatabaseService : IAuthService\n",
    "{\n",
    "    public void Authenticate(string username, string password) \n",
    "    { \n",
    "        Console.WriteLine($\"Authenticating user {username} with password {password}\");\n",
    "    }\n",
    "}\n",
    "\n",
    "public class LoginViewModel\n",
    "{\n",
    "    private readonly IAuthService _authService;\n",
    "    \n",
    "    public string Username { get; set; }\n",
    "    public string Password { get; set; }\n",
    "\n",
    "    public LoginViewModel(IAuthService authService)\n",
    "    {\n",
    "        _authService = authService;\n",
    "    }\n",
    "\n",
    "    public void Login()\n",
    "    {\n",
    "        _authService.Authenticate(Username, Password);\n",
    "    }\n",
    "}\n",
    "\n",
    "var authService = new DatabaseService();\n",
    "var loginViewModel = new LoginViewModel(authService);\n",
    "loginViewModel.Login();\n"
   ]
  }
 ],
 "metadata": {
  "kernelspec": {
   "display_name": ".NET (C#)",
   "language": "C#",
   "name": ".net-csharp"
  },
  "language_info": {
   "name": "python"
  },
  "polyglot_notebook": {
   "kernelInfo": {
    "defaultKernelName": "csharp",
    "items": [
     {
      "aliases": [],
      "name": "csharp"
     }
    ]
   }
  }
 },
 "nbformat": 4,
 "nbformat_minor": 2
}
