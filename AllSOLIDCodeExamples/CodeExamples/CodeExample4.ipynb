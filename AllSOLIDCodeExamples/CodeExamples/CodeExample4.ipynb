{
 "cells": [
  {
   "cell_type": "code",
   "execution_count": 1,
   "metadata": {
    "polyglot_notebook": {
     "kernelName": "csharp"
    },
    "vscode": {
     "languageId": "polyglot-notebook"
    }
   },
   "outputs": [
    {
     "name": "stdout",
     "output_type": "stream",
     "text": [
      "Office worker is working\n",
      "Office worker is eating\n",
      "Office worker is taking a break\n",
      "Robot worker is working\n",
      "This worker cannot eat or take a break\n"
     ]
    }
   ],
   "source": [
    "public interface IWorker\n",
    "{\n",
    "    void Work();\n",
    "    void Eat();\n",
    "    void TakeBreak();\n",
    "}\n",
    "\n",
    "public class OfficeWorker : IWorker \n",
    "{\n",
    "    public void Work() => Console.WriteLine(\"Office worker is working\");\n",
    "\n",
    "    public void Eat() =>  Console.WriteLine(\"Office worker is eating\");\n",
    "\n",
    "    public void TakeBreak() => Console.WriteLine(\"Office worker is taking a break\");\n",
    "}\n",
    "\n",
    "public class RobotWorker : IWorker\n",
    "{\n",
    "    public void Work() => Console.WriteLine(\"Robot worker is working\");\n",
    "\n",
    "    public void Eat() => throw new NotImplementedException();\n",
    "\n",
    "    public void TakeBreak() => throw new NotImplementedException();\n",
    "}\n",
    "\n",
    "List<IWorker> workers = new List<IWorker>\n",
    "{\n",
    "    new OfficeWorker(),\n",
    "    new RobotWorker()\n",
    "};\n",
    "\n",
    "foreach (var worker in workers)\n",
    "{\n",
    "    try \n",
    "    {\n",
    "        worker.Work();\n",
    "        worker.Eat();\n",
    "        worker.TakeBreak();\n",
    "    }\n",
    "    catch (NotImplementedException)\n",
    "    {\n",
    "        Console.WriteLine(\"This worker cannot eat or take a break\");\n",
    "    }\n",
    "}"
   ]
  },
  {
   "cell_type": "code",
   "execution_count": 10,
   "metadata": {
    "polyglot_notebook": {
     "kernelName": "csharp"
    },
    "vscode": {
     "languageId": "polyglot-notebook"
    }
   },
   "outputs": [
    {
     "name": "stdout",
     "output_type": "stream",
     "text": [
      "Office worker is working\n",
      "Office worker is eating\n",
      "Office worker is taking a break\n",
      "Robot worker is working\n"
     ]
    }
   ],
   "source": [
    "public interface IWorker\n",
    "{\n",
    "    void Work();\n",
    "}\n",
    "\n",
    "public interface IEater\n",
    "{\n",
    "    void Eat();\n",
    "}\n",
    "\n",
    "public interface IBreakTaker\n",
    "{\n",
    "    void TakeBreak();\n",
    "}\n",
    "\n",
    "public class OfficeWorker : IWorker, IEater, IBreakTaker\n",
    "{\n",
    "    public void Work()\n",
    "    {\n",
    "        Console.WriteLine(\"Office worker is working\");\n",
    "    }\n",
    "\n",
    "    public void Eat()\n",
    "    {\n",
    "        Console.WriteLine(\"Office worker is eating\");\n",
    "    }\n",
    "\n",
    "    public void TakeBreak()\n",
    "    {\n",
    "        Console.WriteLine(\"Office worker is taking a break\");\n",
    "    }\n",
    "}\n",
    "\n",
    "public class RobotWorker : IWorker\n",
    "{\n",
    "    public void Work()\n",
    "    {\n",
    "        Console.WriteLine(\"Robot worker is working\");\n",
    "    }\n",
    "}\n",
    "\n",
    "List<IWorker> workers = new List<IWorker>\n",
    "{\n",
    "    new OfficeWorker(),\n",
    "    new RobotWorker()\n",
    "};\n",
    "\n",
    "foreach (var worker in workers)\n",
    "{\n",
    "    worker.Work();\n",
    "    \n",
    "    if (worker is IEater eater)\n",
    "    {\n",
    "        eater.Eat();\n",
    "    }\n",
    "\n",
    "    if (worker is IBreakTaker breakTaker)\n",
    "    {\n",
    "        breakTaker.TakeBreak();\n",
    "    }\n",
    "}"
   ]
  }
 ],
 "metadata": {
  "kernelspec": {
   "display_name": ".NET (C#)",
   "language": "C#",
   "name": ".net-csharp"
  },
  "language_info": {
   "name": "python"
  },
  "polyglot_notebook": {
   "kernelInfo": {
    "defaultKernelName": "csharp",
    "items": [
     {
      "aliases": [],
      "name": "csharp"
     }
    ]
   }
  }
 },
 "nbformat": 4,
 "nbformat_minor": 2
}
