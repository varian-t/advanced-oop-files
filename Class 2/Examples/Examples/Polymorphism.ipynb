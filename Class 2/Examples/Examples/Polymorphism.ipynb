{
 "cells": [
  {
   "cell_type": "code",
   "execution_count": 14,
   "metadata": {
    "dotnet_interactive": {
     "language": "csharp"
    },
    "polyglot_notebook": {
     "kernelName": "csharp"
    },
    "vscode": {
     "languageId": "polyglot-notebook"
    }
   },
   "outputs": [],
   "source": [
    "//Base Class\n",
    "public class Airplane \n",
    "{\n",
    "    public virtual int Speed {get; set;}\n",
    "\n",
    "    public Airplane(int Speed) {\n",
    "        this.Speed = Speed;\n",
    "    }\n",
    "\n",
    "    public virtual void Accelerate() {\n",
    "        Speed++;\n",
    "    }\n",
    "}"
   ]
  },
  {
   "cell_type": "code",
   "execution_count": 15,
   "metadata": {
    "vscode": {
     "languageId": "polyglot-notebook"
    }
   },
   "outputs": [],
   "source": [
    "public class Jet : Airplane \n",
    "{\n",
    "    public int Acceleration {get;}\n",
    "\n",
    "    public Jet(int Speed, int Acceleration) : base(Speed) {\n",
    "        this.Acceleration = Acceleration;\n",
    "    }\n",
    "\n",
    "    public override void Accelerate() {\n",
    "        Speed = Speed * Acceleration;\n",
    "    }\n",
    "}"
   ]
  },
  {
   "cell_type": "code",
   "execution_count": 16,
   "metadata": {
    "vscode": {
     "languageId": "polyglot-notebook"
    }
   },
   "outputs": [
    {
     "ename": "Error",
     "evalue": "(2,1): error CS0103: The name 'planes' does not exist in the current context\r\n(3,1): error CS0103: The name 'planes' does not exist in the current context\r\n(4,28): error CS0103: The name 'planes' does not exist in the current context",
     "output_type": "error",
     "traceback": [
      "(2,1): error CS0103: The name 'planes' does not exist in the current context\r\n",
      "(3,1): error CS0103: The name 'planes' does not exist in the current context\r\n",
      "(4,28): error CS0103: The name 'planes' does not exist in the current context"
     ]
    }
   ],
   "source": [
    "\n",
    "planes.Add(new Jet(2, 2));\n",
    "planes.Add(new Airplane(2));\n",
    "foreach (Airplane plane in planes) {Console.WriteLine(plane.GetType());};"
   ]
  },
  {
   "cell_type": "code",
   "execution_count": 17,
   "metadata": {
    "vscode": {
     "languageId": "polyglot-notebook"
    }
   },
   "outputs": [],
   "source": [
    "public class Airport \n",
    "{\n",
    "    public List<Airplane> Stationary = [];\n",
    "    public List<Airplane> Flying = [];\n",
    "\n",
    "    public void Start(Airplane plane) \n",
    "    {\n",
    "        Stationary.Remove(plane);\n",
    "        Flying.Add(plane);\n",
    "    }\n",
    "\n",
    "    public void Land(Airplane plane) \n",
    "    {\n",
    "        Flying.Remove(plane);\n",
    "        Stationary.Add(plane);\n",
    "    }\n",
    "\n",
    "    public void Launch(Jet jet) \n",
    "    {\n",
    "        Stationary.Remove(jet);\n",
    "        Flying.Add(jet);\n",
    "    }\n",
    "\n",
    "    public override string ToString() \n",
    "    {\n",
    "        var stationaryPlanes = string.Join(\", \", Stationary.Select(p => p.GetType().Name + \" (Speed: \" + p.Speed + \")\"));\n",
    "        var flyingPlanes = string.Join(\", \", Flying.Select(p => p.GetType().Name + \" (Speed: \" + p.Speed + \")\"));\n",
    "        \n",
    "        return $\"Stationary Planes: [{stationaryPlanes}]\\nFlying Planes: [{flyingPlanes}]\";\n",
    "    }\n",
    "}"
   ]
  },
  {
   "cell_type": "code",
   "execution_count": 18,
   "metadata": {
    "vscode": {
     "languageId": "polyglot-notebook"
    }
   },
   "outputs": [
    {
     "name": "stdout",
     "output_type": "stream",
     "text": [
      "Stationary Planes: [Airplane (Speed: 100), Jet (Speed: 100)]\n",
      "Flying Planes: []\r\n"
     ]
    }
   ],
   "source": [
    "var airport = new Airport();\n",
    "var plane = new Airplane(100);\n",
    "var jet = new Jet(100, 10);\n",
    "airport.Stationary.AddRange([plane, jet]);\n",
    "\n",
    "Console.WriteLine(airport);\n"
   ]
  },
  {
   "cell_type": "code",
   "execution_count": 19,
   "metadata": {
    "vscode": {
     "languageId": "polyglot-notebook"
    }
   },
   "outputs": [
    {
     "name": "stdout",
     "output_type": "stream",
     "text": [
      "Stationary Planes: [Jet (Speed: 100)]\n",
      "Flying Planes: [Airplane (Speed: 100)]\n",
      "-----------\n",
      "Stationary Planes: [Jet (Speed: 100), Airplane (Speed: 100)]\n",
      "Flying Planes: []\n"
     ]
    }
   ],
   "source": [
    "airport.Start(plane);\n",
    "Console.WriteLine(airport);\n",
    "Console.WriteLine(\"-----------\");\n",
    "airport.Land(plane);\n",
    "Console.WriteLine(airport);"
   ]
  },
  {
   "cell_type": "code",
   "execution_count": null,
   "metadata": {
    "vscode": {
     "languageId": "polyglot-notebook"
    }
   },
   "outputs": [
    {
     "name": "stdout",
     "output_type": "stream",
     "text": [
      "Stationary Planes: [Airplane (Speed: 100)]\n",
      "Flying Planes: [Jet (Speed: 100)]\n",
      "-----------\n",
      "Stationary Planes: [Airplane (Speed: 100), Jet (Speed: 100)]\n",
      "Flying Planes: []\n"
     ]
    }
   ],
   "source": [
    "//Airplane can be started\n",
    "airport.Start(jet);\n",
    "Console.WriteLine(airport);\n",
    "Console.WriteLine(\"-----------\");\n",
    "airport.Land(jet);\n",
    "Console.WriteLine(airport);"
   ]
  },
  {
   "cell_type": "code",
   "execution_count": 21,
   "metadata": {
    "vscode": {
     "languageId": "polyglot-notebook"
    }
   },
   "outputs": [
    {
     "name": "stdout",
     "output_type": "stream",
     "text": [
      "Stationary Planes: [Airplane (Speed: 100)]\n",
      "Flying Planes: [Jet (Speed: 100)]\n",
      "-----------\n",
      "Stationary Planes: [Airplane (Speed: 100), Jet (Speed: 100)]\n",
      "Flying Planes: []\n"
     ]
    }
   ],
   "source": [
    "airport.Launch(jet);\n",
    "Console.WriteLine(airport);\n",
    "Console.WriteLine(\"-----------\");\n",
    "airport.Land(jet);\n",
    "Console.WriteLine(airport);"
   ]
  },
  {
   "cell_type": "code",
   "execution_count": 22,
   "metadata": {
    "vscode": {
     "languageId": "polyglot-notebook"
    }
   },
   "outputs": [
    {
     "ename": "Error",
     "evalue": "(1,16): error CS1503: Argument 1: cannot convert from 'Airplane' to 'Jet'",
     "output_type": "error",
     "traceback": [
      "(1,16): error CS1503: Argument 1: cannot convert from 'Airplane' to 'Jet'"
     ]
    }
   ],
   "source": [
    "airport.Launch(plane);"
   ]
  },
  {
   "cell_type": "code",
   "execution_count": 23,
   "metadata": {
    "vscode": {
     "languageId": "polyglot-notebook"
    }
   },
   "outputs": [
    {
     "ename": "Error",
     "evalue": "System.InvalidCastException: Unable to cast object of type 'Airplane' to type 'Jet'.\r\n   at Submission#23.<<Initialize>>d__0.MoveNext()\r\n--- End of stack trace from previous location ---\r\n   at Microsoft.CodeAnalysis.Scripting.ScriptExecutionState.RunSubmissionsAsync[TResult](ImmutableArray`1 precedingExecutors, Func`2 currentExecutor, StrongBox`1 exceptionHolderOpt, Func`2 catchExceptionOpt, CancellationToken cancellationToken)",
     "output_type": "error",
     "traceback": [
      "System.InvalidCastException: Unable to cast object of type 'Airplane' to type 'Jet'.\r\n",
      "   at Submission#23.<<Initialize>>d__0.MoveNext()\r\n",
      "--- End of stack trace from previous location ---\r\n",
      "   at Microsoft.CodeAnalysis.Scripting.ScriptExecutionState.RunSubmissionsAsync[TResult](ImmutableArray`1 precedingExecutors, Func`2 currentExecutor, StrongBox`1 exceptionHolderOpt, Func`2 catchExceptionOpt, CancellationToken cancellationToken)"
     ]
    }
   ],
   "source": [
    "airport.Launch((Jet) plane);"
   ]
  },
  {
   "cell_type": "code",
   "execution_count": 27,
   "metadata": {
    "vscode": {
     "languageId": "polyglot-notebook"
    }
   },
   "outputs": [
    {
     "name": "stdout",
     "output_type": "stream",
     "text": [
      "Submission#14+Airplane\r\n"
     ]
    }
   ],
   "source": [
    "object plane2 = plane;\n",
    "Console.WriteLine(plane2.GetType());"
   ]
  },
  {
   "cell_type": "code",
   "execution_count": 28,
   "metadata": {
    "vscode": {
     "languageId": "polyglot-notebook"
    }
   },
   "outputs": [
    {
     "ename": "Error",
     "evalue": "(1,15): error CS1503: Argument 1: cannot convert from 'object' to 'Airplane'",
     "output_type": "error",
     "traceback": [
      "(1,15): error CS1503: Argument 1: cannot convert from 'object' to 'Airplane'"
     ]
    }
   ],
   "source": [
    "airport.Start(plane2);\n"
   ]
  }
 ],
 "metadata": {
  "kernelspec": {
   "display_name": ".NET (C#)",
   "language": "C#",
   "name": ".net-csharp"
  },
  "language_info": {
   "name": "python"
  },
  "polyglot_notebook": {
   "kernelInfo": {
    "defaultKernelName": "csharp",
    "items": [
     {
      "aliases": [],
      "name": "csharp"
     }
    ]
   }
  }
 },
 "nbformat": 4,
 "nbformat_minor": 2
}
