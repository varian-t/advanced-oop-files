{
 "cells": [
  {
   "cell_type": "code",
   "execution_count": 32,
   "metadata": {
    "dotnet_interactive": {
     "language": "csharp"
    },
    "polyglot_notebook": {
     "kernelName": "csharp"
    },
    "vscode": {
     "languageId": "polyglot-notebook"
    }
   },
   "outputs": [],
   "source": [
    "var words = new List<string>(); // New string-typed list\n",
    "\n",
    "var printWords = () => {foreach (string s in words) Console.WriteLine (s);};"
   ]
  },
  {
   "cell_type": "code",
   "execution_count": 33,
   "metadata": {
    "dotnet_interactive": {
     "language": "csharp"
    },
    "polyglot_notebook": {
     "kernelName": "csharp"
    },
    "vscode": {
     "languageId": "polyglot-notebook"
    }
   },
   "outputs": [
    {
     "name": "stdout",
     "output_type": "stream",
     "text": [
      "melon\n",
      "avocado\n",
      "banana\n",
      "plum\n"
     ]
    }
   ],
   "source": [
    "words.Add (\"melon\");\n",
    "words.Add (\"avocado\");\n",
    "words.AddRange ([\"banana\", \"plum\"]);\n",
    "printWords()"
   ]
  },
  {
   "cell_type": "code",
   "execution_count": 34,
   "metadata": {
    "dotnet_interactive": {
     "language": "csharp"
    },
    "polyglot_notebook": {
     "kernelName": "csharp"
    },
    "vscode": {
     "languageId": "polyglot-notebook"
    }
   },
   "outputs": [
    {
     "name": "stdout",
     "output_type": "stream",
     "text": [
      "peach\n",
      "nashi\n",
      "lemon\n",
      "melon\n",
      "avocado\n",
      "banana\n",
      "plum\n"
     ]
    }
   ],
   "source": [
    "words.Insert (0, \"lemon\"); // Insert at start\n",
    "words.InsertRange (0, [\"peach\", \"nashi\"]); // Insert at start\n",
    "printWords();"
   ]
  },
  {
   "cell_type": "code",
   "execution_count": 35,
   "metadata": {
    "dotnet_interactive": {
     "language": "csharp"
    },
    "polyglot_notebook": {
     "kernelName": "csharp"
    },
    "vscode": {
     "languageId": "polyglot-notebook"
    }
   },
   "outputs": [
    {
     "name": "stdout",
     "output_type": "stream",
     "text": [
      "peach\n",
      "nashi\n",
      "lemon\n",
      "banana\n",
      "plum\n"
     ]
    }
   ],
   "source": [
    "words.Remove (\"melon\");\n",
    "words.RemoveAt (3); // Remove the 4th element\n",
    "printWords();"
   ]
  },
  {
   "cell_type": "code",
   "execution_count": 36,
   "metadata": {
    "dotnet_interactive": {
     "language": "csharp"
    },
    "polyglot_notebook": {
     "kernelName": "csharp"
    },
    "vscode": {
     "languageId": "polyglot-notebook"
    }
   },
   "outputs": [
    {
     "name": "stdout",
     "output_type": "stream",
     "text": [
      "peach\n",
      "lemon\n",
      "banana\n",
      "plum\n"
     ]
    }
   ],
   "source": [
    "// Remove all strings starting in 'n':\n",
    "words.RemoveAll (s => s.StartsWith (\"n\"));\n",
    "printWords();"
   ]
  },
  {
   "cell_type": "code",
   "execution_count": 38,
   "metadata": {
    "dotnet_interactive": {
     "language": "csharp"
    },
    "polyglot_notebook": {
     "kernelName": "csharp"
    },
    "vscode": {
     "languageId": "polyglot-notebook"
    }
   },
   "outputs": [
    {
     "name": "stdout",
     "output_type": "stream",
     "text": [
      "peach\n",
      "plum\n",
      "peach\n",
      "lemon\n",
      "banana\n",
      "plum\n"
     ]
    }
   ],
   "source": [
    "Console.WriteLine (words [0]); // first word\n",
    "Console.WriteLine (words [words.Count - 1]); // last word\n",
    "foreach (string s in words) Console.WriteLine (s); // all words"
   ]
  },
  {
   "cell_type": "code",
   "execution_count": 39,
   "metadata": {
    "dotnet_interactive": {
     "language": "csharp"
    },
    "polyglot_notebook": {
     "kernelName": "csharp"
    },
    "vscode": {
     "languageId": "polyglot-notebook"
    }
   },
   "outputs": [
    {
     "name": "stdout",
     "output_type": "stream",
     "text": [
      "PEACH\n",
      "LEMON\n",
      "BANANA\n",
      "PLUM\n"
     ]
    }
   ],
   "source": [
    "List<string> upperCaseWords = words.ConvertAll (s => s.ToUpper());\n",
    "foreach (string s in upperCaseWords) Console.WriteLine (s);"
   ]
  },
  {
   "cell_type": "code",
   "execution_count": 43,
   "metadata": {
    "dotnet_interactive": {
     "language": "csharp"
    },
    "polyglot_notebook": {
     "kernelName": "csharp"
    },
    "vscode": {
     "languageId": "polyglot-notebook"
    }
   },
   "outputs": [
    {
     "name": "stdout",
     "output_type": "stream",
     "text": [
      "5\n",
      "5\n",
      "6\n",
      "4\n"
     ]
    }
   ],
   "source": [
    "List<int> lengths = words.ConvertAll (s => s.Length);\n",
    "foreach (int s in lengths) Console.WriteLine (s);"
   ]
  }
 ],
 "metadata": {
  "kernelspec": {
   "display_name": ".NET (C#)",
   "language": "C#",
   "name": ".net-csharp"
  },
  "language_info": {
   "name": "python"
  },
  "polyglot_notebook": {
   "kernelInfo": {
    "defaultKernelName": "csharp",
    "items": [
     {
      "aliases": [],
      "name": "csharp"
     }
    ]
   }
  }
 },
 "nbformat": 4,
 "nbformat_minor": 2
}
