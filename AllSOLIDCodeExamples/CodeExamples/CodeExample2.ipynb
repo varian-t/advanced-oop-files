{
 "cells": [
  {
   "cell_type": "code",
   "execution_count": null,
   "metadata": {
    "polyglot_notebook": {
     "kernelName": "csharp"
    },
    "vscode": {
     "languageId": "polyglot-notebook"
    }
   },
   "outputs": [
    {
     "name": "stdout",
     "output_type": "stream",
     "text": [
      "900\n",
      "800\n",
      "0\n"
     ]
    }
   ],
   "source": [
    "public class DiscountCalculator {\n",
    "    public double CalculateDiscount(string customerType, double amount) {\n",
    "        if (customerType == \"Regular\") {\n",
    "            return amount * 0.9;\n",
    "        } else if (customerType == \"Premium\") {\n",
    "            return amount * 0.8;\n",
    "        } else if (customerType == \"VIP\") {\n",
    "            return 0;\n",
    "        } else {\n",
    "            return amount;\n",
    "        }\n",
    "    }\n",
    "}\n",
    "\n",
    "DiscountCalculator discountCalculator = new DiscountCalculator();\n",
    "Console.WriteLine(discountCalculator.CalculateDiscount(\"Regular\", 1000)); // 100\n",
    "Console.WriteLine(discountCalculator.CalculateDiscount(\"Premium\", 1000)); // 200\n",
    "Console.WriteLine(discountCalculator.CalculateDiscount(\"VIP\", 1000)); // 0"
   ]
  },
  {
   "cell_type": "code",
   "execution_count": 4,
   "metadata": {
    "polyglot_notebook": {
     "kernelName": "csharp"
    },
    "vscode": {
     "languageId": "polyglot-notebook"
    }
   },
   "outputs": [
    {
     "name": "stdout",
     "output_type": "stream",
     "text": [
      "900\n",
      "800\n",
      "0\n"
     ]
    }
   ],
   "source": [
    "public interface IDiscountStrategy \n",
    "{\n",
    "    double CalculateDiscount(double amount);\n",
    "}\n",
    "\n",
    "public class RegularDiscount : IDiscountStrategy \n",
    "{\n",
    "    public double CalculateDiscount(double amount) \n",
    "    {\n",
    "        return amount * 0.9;\n",
    "    }\n",
    "}\n",
    "\n",
    "public class PremiumDiscount : IDiscountStrategy \n",
    "{\n",
    "    public double CalculateDiscount(double amount) \n",
    "    {\n",
    "        return amount * 0.8;\n",
    "    }\n",
    "}\n",
    "\n",
    "public class VIPDiscount : IDiscountStrategy \n",
    "{\n",
    "    public double CalculateDiscount(double amount) \n",
    "    {\n",
    "        return 0;\n",
    "    }\n",
    "}\n",
    "\n",
    "public class DiscountCalculator \n",
    "{\n",
    "    public IDiscountStrategy discountStrategy { get; set; }\n",
    "\n",
    "    public DiscountCalculator(IDiscountStrategy discountStrategy) \n",
    "    {\n",
    "        this.discountStrategy = discountStrategy;\n",
    "    }\n",
    "\n",
    "    public double CalculateDiscount(double amount) \n",
    "    {\n",
    "        return discountStrategy.CalculateDiscount(amount);\n",
    "    }\n",
    "}\n",
    "\n",
    "\n",
    "Dictionary<string, IDiscountStrategy> discountStrategies = new Dictionary<string, IDiscountStrategy>\n",
    "{\n",
    "    { \"Regular\", new RegularDiscount() },\n",
    "    { \"Premium\", new PremiumDiscount() },\n",
    "    { \"VIP\", new VIPDiscount() }\n",
    "};\n",
    "\n",
    "DiscountCalculator discountCalculator = new DiscountCalculator(discountStrategies[\"Regular\"]);\n",
    "Console.WriteLine(discountCalculator.CalculateDiscount(1000));\n",
    "\n",
    "discountCalculator.discountStrategy = discountStrategies[\"Premium\"];\n",
    "Console.WriteLine(discountCalculator.CalculateDiscount(1000));\n",
    "\n",
    "discountCalculator.discountStrategy = discountStrategies[\"VIP\"];\n",
    "Console.WriteLine(discountCalculator.CalculateDiscount(1000));"
   ]
  }
 ],
 "metadata": {
  "kernelspec": {
   "display_name": ".NET (C#)",
   "language": "C#",
   "name": ".net-csharp"
  },
  "language_info": {
   "name": "python"
  },
  "polyglot_notebook": {
   "kernelInfo": {
    "defaultKernelName": "csharp",
    "items": [
     {
      "aliases": [],
      "name": "csharp"
     }
    ]
   }
  }
 },
 "nbformat": 4,
 "nbformat_minor": 2
}
