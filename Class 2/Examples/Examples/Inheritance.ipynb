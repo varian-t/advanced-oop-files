{
 "cells": [
  {
   "cell_type": "markdown",
   "metadata": {},
   "source": [
    "## Inheritance"
   ]
  },
  {
   "cell_type": "code",
   "execution_count": 42,
   "metadata": {
    "dotnet_interactive": {
     "language": "csharp"
    },
    "polyglot_notebook": {
     "kernelName": "csharp"
    },
    "vscode": {
     "languageId": "polyglot-notebook"
    }
   },
   "outputs": [],
   "source": [
    "//Base Class\n",
    "public class Airplane \n",
    "{\n",
    "    public virtual int Speed {get; set;}\n",
    "\n",
    "    public Airplane(int Speed) {\n",
    "        this.Speed = Speed;\n",
    "    }\n",
    "\n",
    "    public virtual void Accelerate() {\n",
    "        Speed++;\n",
    "    }\n",
    "}"
   ]
  },
  {
   "cell_type": "code",
   "execution_count": 43,
   "metadata": {
    "dotnet_interactive": {
     "language": "csharp"
    },
    "polyglot_notebook": {
     "kernelName": "csharp"
    },
    "vscode": {
     "languageId": "polyglot-notebook"
    }
   },
   "outputs": [],
   "source": [
    "public class Jet : Airplane \n",
    "{\n",
    "    public int Acceleration {get;}\n",
    "\n",
    "    public Jet(int Speed, int Acceleration) : base(Speed) {\n",
    "        this.Acceleration = Acceleration;\n",
    "    }\n",
    "\n",
    "    public override void Accelerate() {\n",
    "        Speed = Speed * Acceleration;\n",
    "    }\n",
    "}"
   ]
  },
  {
   "cell_type": "code",
   "execution_count": 44,
   "metadata": {
    "dotnet_interactive": {
     "language": "csharp"
    },
    "polyglot_notebook": {
     "kernelName": "csharp"
    },
    "vscode": {
     "languageId": "polyglot-notebook"
    }
   },
   "outputs": [],
   "source": [
    "Airplane plane = new Airplane(5);"
   ]
  },
  {
   "cell_type": "code",
   "execution_count": 45,
   "metadata": {
    "dotnet_interactive": {
     "language": "csharp"
    },
    "polyglot_notebook": {
     "kernelName": "csharp"
    },
    "vscode": {
     "languageId": "polyglot-notebook"
    }
   },
   "outputs": [],
   "source": [
    "Airplane jet = new Jet(5, 2);"
   ]
  },
  {
   "cell_type": "code",
   "execution_count": 47,
   "metadata": {
    "dotnet_interactive": {
     "language": "csharp"
    },
    "polyglot_notebook": {
     "kernelName": "csharp"
    },
    "vscode": {
     "languageId": "polyglot-notebook"
    }
   },
   "outputs": [
    {
     "name": "stdout",
     "output_type": "stream",
     "text": [
      "5\n",
      "6\n",
      "5\n",
      "10\n"
     ]
    }
   ],
   "source": [
    "Console.WriteLine(plane.Speed);\n",
    "plane.Accelerate();\n",
    "Console.WriteLine(plane.Speed);\n",
    "\n",
    "Console.WriteLine(jet.Speed);\n",
    "jet.Accelerate();\n",
    "Console.WriteLine(jet.Speed);"
   ]
  },
  {
   "cell_type": "markdown",
   "metadata": {},
   "source": [
    "## ToString() Method"
   ]
  },
  {
   "cell_type": "code",
   "execution_count": 2,
   "metadata": {
    "dotnet_interactive": {
     "language": "csharp"
    },
    "polyglot_notebook": {
     "kernelName": "csharp"
    },
    "vscode": {
     "languageId": "polyglot-notebook"
    }
   },
   "outputs": [
    {
     "name": "stdout",
     "output_type": "stream",
     "text": [
      "Petey\r\n"
     ]
    }
   ],
   "source": [
    "public class Panda\n",
    "{\n",
    " public string Name;\n",
    " public override string ToString() => Name;\n",
    " /// when we set tostring method\n",
    "}\n",
    "\n",
    "Panda p = new Panda { Name = \"Petey\" };\n",
    "Console.WriteLine (p); // Petey"
   ]
  },
  {
   "cell_type": "code",
   "execution_count": 1,
   "metadata": {
    "dotnet_interactive": {
     "language": "csharp"
    },
    "polyglot_notebook": {
     "kernelName": "csharp"
    },
    "vscode": {
     "languageId": "polyglot-notebook"
    }
   },
   "outputs": [
    {
     "name": "stdout",
     "output_type": "stream",
     "text": [
      "Submission#1+Panda\r\n"
     ]
    }
   ],
   "source": [
    "public class Panda\n",
    "{\n",
    " public string Name;\n",
    "}\n",
    "\n",
    "Panda p = new Panda { Name = \"Petey\" };\n",
    "Console.WriteLine (p); // Petey"
   ]
  }
 ],
 "metadata": {
  "kernelspec": {
   "display_name": ".NET (C#)",
   "language": "C#",
   "name": ".net-csharp"
  },
  "language_info": {
   "name": "python"
  },
  "polyglot_notebook": {
   "kernelInfo": {
    "defaultKernelName": "csharp",
    "items": [
     {
      "aliases": [],
      "name": "csharp"
     }
    ]
   }
  }
 },
 "nbformat": 4,
 "nbformat_minor": 2
}
