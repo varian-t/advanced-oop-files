{
 "cells": [
  {
   "cell_type": "code",
   "execution_count": null,
   "metadata": {
    "polyglot_notebook": {
     "kernelName": "csharp"
    },
    "vscode": {
     "languageId": "polyglot-notebook"
    }
   },
   "outputs": [
    {
     "name": "stdout",
     "output_type": "stream",
     "text": [
      "Invoice Number: 1\n",
      "Invoice Date: 3/27/2025 9:23:18 AM\n",
      "Invoice Amount: 100\n",
      "Tax: 20.0\n",
      "Invoice saved to database\n"
     ]
    }
   ],
   "source": [
    "public class Invoice\n",
    "{\n",
    "    public int InvoiceNumber { get; set; }\n",
    "    public DateTime InvoiceDate { get; set; }\n",
    "    public decimal InvoiceAmount { get; set; }\n",
    "\n",
    "    public decimal CalculateTax() {\n",
    "        return InvoiceAmount * 0.2m;\n",
    "    }\n",
    "\n",
    "    public void PrintInvoice() {\n",
    "        Console.WriteLine($\"Invoice Number: {InvoiceNumber}\");\n",
    "        Console.WriteLine($\"Invoice Date: {InvoiceDate}\");\n",
    "        Console.WriteLine($\"Invoice Amount: {InvoiceAmount}\");\n",
    "        Console.WriteLine($\"Tax: {CalculateTax()}\");\n",
    "    }\n",
    "\n",
    "    public void SaveToDatabase() {\n",
    "        Console.WriteLine(\"Invoice saved to database\");\n",
    "    }\n",
    "}\n",
    "\n",
    "var invoice = new Invoice {\n",
    "    InvoiceNumber = 1,\n",
    "    InvoiceDate = DateTime.Now,\n",
    "    InvoiceAmount = 100\n",
    "};\n",
    "\n",
    "invoice.PrintInvoice();\n",
    "invoice.SaveToDatabase();"
   ]
  },
  {
   "cell_type": "code",
   "execution_count": 2,
   "metadata": {
    "polyglot_notebook": {
     "kernelName": "csharp"
    },
    "vscode": {
     "languageId": "polyglot-notebook"
    }
   },
   "outputs": [
    {
     "name": "stdout",
     "output_type": "stream",
     "text": [
      "Invoice Number: 1\n",
      "Invoice Date: 3/27/2025 9:26:00 AM\n",
      "Invoice Amount: 100\n",
      "Tax: 20.0\n",
      "Invoice saved to database\n"
     ]
    }
   ],
   "source": [
    "public class Invoice \n",
    "{\n",
    "    public int InvoiceNumber { get; set; }\n",
    "    public DateTime InvoiceDate { get; set; }\n",
    "    public decimal InvoiceAmount { get; set; }\n",
    "}\n",
    "\n",
    "public class TaxCalculator\n",
    "{\n",
    "    public static decimal CalculateTax(decimal amount) {\n",
    "        return amount * 0.2m;\n",
    "    }\n",
    "}\n",
    "\n",
    "public class InvoicePrinter\n",
    "{\n",
    "    public void PrintInvoice(Invoice invoice) { \n",
    "        decimal tax = TaxCalculator.CalculateTax(invoice.InvoiceAmount);\n",
    "        Console.WriteLine($\"Invoice Number: {invoice.InvoiceNumber}\");\n",
    "        Console.WriteLine($\"Invoice Date: {invoice.InvoiceDate}\");\n",
    "        Console.WriteLine($\"Invoice Amount: {invoice.InvoiceAmount}\");\n",
    "        Console.WriteLine($\"Tax: {tax}\");\n",
    "    }\n",
    "}\n",
    "\n",
    "public class InvoiceRepository\n",
    "{\n",
    "    public void SaveToDatabase(Invoice invoice) {\n",
    "        Console.WriteLine(\"Invoice saved to database\");\n",
    "    }\n",
    "}\n",
    "\n",
    "var invoice = new Invoice {\n",
    "    InvoiceNumber = 1,\n",
    "    InvoiceDate = DateTime.Now,\n",
    "    InvoiceAmount = 100\n",
    "};\n",
    "\n",
    "var invoicePrinter = new InvoicePrinter();\n",
    "var invoiceRepository = new InvoiceRepository();\n",
    "\n",
    "invoicePrinter.PrintInvoice(invoice);\n",
    "invoiceRepository.SaveToDatabase(invoice);"
   ]
  }
 ],
 "metadata": {
  "kernelspec": {
   "display_name": ".NET (C#)",
   "language": "C#",
   "name": ".net-csharp"
  },
  "language_info": {
   "name": "python"
  },
  "polyglot_notebook": {
   "kernelInfo": {
    "defaultKernelName": "csharp",
    "items": [
     {
      "aliases": [],
      "name": "csharp"
     }
    ]
   }
  }
 },
 "nbformat": 4,
 "nbformat_minor": 2
}
